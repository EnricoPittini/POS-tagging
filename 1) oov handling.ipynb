{
 "cells": [
  {
   "cell_type": "code",
   "execution_count": 1,
   "metadata": {},
   "outputs": [],
   "source": [
    "import numpy as np\n",
    "import matplotlib.pyplot as plt"
   ]
  },
  {
   "cell_type": "code",
   "execution_count": 2,
   "metadata": {},
   "outputs": [],
   "source": [
    "%load_ext autoreload\n",
    "%autoreload 2"
   ]
  },
  {
   "cell_type": "code",
   "execution_count": 3,
   "metadata": {},
   "outputs": [],
   "source": [
    "# For reproducibility\n",
    "\n",
    "import random \n",
    "import torch\n",
    "import os\n",
    "\n",
    "random_seed = 44\n",
    "\n",
    "random.seed(random_seed)\n",
    "np.random.seed(random_seed)\n",
    "torch.manual_seed(random_seed)\n",
    "torch.cuda.manual_seed(random_seed)\n",
    "\n",
    "torch.backends.cudnn.benchmark = False\n",
    "torch.backends.cudnn.deterministic = True\n",
    "\n",
    "os.environ['TF_DETERMINISTIC_OPS'] = '1'"
   ]
  },
  {
   "cell_type": "markdown",
   "metadata": {},
   "source": [
    "## Dataset loading"
   ]
  },
  {
   "cell_type": "code",
   "execution_count": 4,
   "metadata": {},
   "outputs": [],
   "source": [
    "from utils.dataset_loader import load_datasets\n",
    "\n",
    "(texts_train, labels_train), (texts_val, labels_val), (texts_test, labels_test) = load_datasets(folder_path='dataset', \n",
    "                                                                                                divide_by_sentence=True,\n",
    "                                                                                                group_numbers=True)"
   ]
  },
  {
   "cell_type": "markdown",
   "metadata": {},
   "source": [
    "# Load GloVe"
   ]
  },
  {
   "cell_type": "code",
   "execution_count": null,
   "metadata": {},
   "outputs": [],
   "source": [
    "from utils.embedding_model_handler import load_glove\n",
    "\n",
    "embedding_dimension = 50\n",
    "\n",
    "GLOVE_embeddings = load_glove(folder_path='glove_pretrained', embedding_dim=embedding_dimension)"
   ]
  },
  {
   "cell_type": "code",
   "execution_count": null,
   "metadata": {},
   "outputs": [
    {
     "data": {
      "text/plain": [
       "400000"
      ]
     },
     "execution_count": 7,
     "metadata": {},
     "output_type": "execute_result"
    }
   ],
   "source": [
    "len(GLOVE_embeddings)"
   ]
  },
  {
   "cell_type": "markdown",
   "metadata": {},
   "source": [
    "# OOV Terms Handling (Train set)"
   ]
  },
  {
   "cell_type": "code",
   "execution_count": 8,
   "metadata": {},
   "outputs": [],
   "source": [
    "from utils.oov_handler import get_OOV_analysis\n",
    "OOV_words, proportion_OOV_words, OOV_words_counts = get_OOV_analysis(embedding_model=GLOVE_embeddings, texts=texts_train)"
   ]
  },
  {
   "cell_type": "code",
   "execution_count": 9,
   "metadata": {},
   "outputs": [
    {
     "data": {
      "text/plain": [
       "309"
      ]
     },
     "execution_count": 9,
     "metadata": {},
     "output_type": "execute_result"
    }
   ],
   "source": [
    "len(OOV_words)"
   ]
  },
  {
   "cell_type": "code",
   "execution_count": 10,
   "metadata": {},
   "outputs": [
    {
     "data": {
      "text/plain": [
       "{'-lcb-',\n",
       " '-lrb-',\n",
       " '-rcb-',\n",
       " '-rrb-',\n",
       " '1\\\\/10th',\n",
       " '2,303,328',\n",
       " '230-215',\n",
       " '3,288,453',\n",
       " '37-a-share',\n",
       " '382-37',\n",
       " '4,393,237',\n",
       " '520-lawyer',\n",
       " '62%-owned',\n",
       " '69-point',\n",
       " '70-a-share',\n",
       " '8300s',\n",
       " '84-month',\n",
       " '90-cent-an-hour',\n",
       " '[num]',\n",
       " 'abortion-related',\n",
       " 'ac-130u',\n",
       " 'achievement-test',\n",
       " 'akerfeldt',\n",
       " 'alurralde',\n",
       " 'amphobiles',\n",
       " 'anti-abortionists',\n",
       " 'anti-china',\n",
       " 'anti-takeover',\n",
       " 'antitrust-law',\n",
       " 'ariail',\n",
       " 'aslacton',\n",
       " 'asset-sale',\n",
       " 'autions',\n",
       " 'auto-safety',\n",
       " 'automotive-lighting',\n",
       " 'automotive-parts',\n",
       " 'bald-faced',\n",
       " 'beer-belly',\n",
       " 'bell-ringer',\n",
       " 'bellringers',\n",
       " 'bermuda-based',\n",
       " 'besuboru',\n",
       " 'big-ticket',\n",
       " 'biondi-santi',\n",
       " 'boorse',\n",
       " 'bridgestone\\\\/firestone',\n",
       " 'building-products',\n",
       " 'built-from-kit',\n",
       " 'bumkins',\n",
       " 'buttoned-down',\n",
       " 'c-90',\n",
       " 'c.j.b.',\n",
       " 'capital-gains',\n",
       " 'car-safety',\n",
       " 'cash-rich',\n",
       " 'centerbank',\n",
       " 'chafic',\n",
       " 'change-ringing',\n",
       " 'chemplus',\n",
       " 'chilver',\n",
       " 'chinchon',\n",
       " 'chong-sik',\n",
       " 'church-goers',\n",
       " 'circuit-breaker',\n",
       " 'co-developers',\n",
       " 'coche-dury',\n",
       " 'collective-bargaining',\n",
       " 'college-bowl',\n",
       " 'colonsville',\n",
       " 'computer-driven',\n",
       " 'computer-system-design',\n",
       " 'cop-killer',\n",
       " 'corton-charlemagne',\n",
       " 'cotran',\n",
       " 'cray-3',\n",
       " \"creator's\",\n",
       " 'crocidolite',\n",
       " 'ctbs',\n",
       " 'custom-chip',\n",
       " 'dead-eyed',\n",
       " 'delwin',\n",
       " 'deposits-a',\n",
       " 'derel',\n",
       " 'detective-story',\n",
       " 'direct-investment',\n",
       " 'dollar-yen',\n",
       " 'drag-down',\n",
       " 'drobnick',\n",
       " 'durable-goods',\n",
       " 'dust-up',\n",
       " 'eight-count',\n",
       " 'electric-utility',\n",
       " 'energy-services',\n",
       " 'ensrud',\n",
       " 'equal-opportunity',\n",
       " 'erbamont',\n",
       " 'family-planning',\n",
       " 'fetal-tissue',\n",
       " 'flightiness',\n",
       " 'floating-rate',\n",
       " 'food-shop',\n",
       " 'foreign-led',\n",
       " 'foreign-stock',\n",
       " 'forest-product',\n",
       " 'forest-products',\n",
       " 'front-seat',\n",
       " 'ft-se',\n",
       " 'futures-related',\n",
       " 'ghkm',\n",
       " 'gingl',\n",
       " 'glenham',\n",
       " 'government-certified',\n",
       " 'greenmailer',\n",
       " 'hallwood',\n",
       " 'high-balance',\n",
       " 'high-rate',\n",
       " 'higher-salaried',\n",
       " 'highest-pitched',\n",
       " 'home-market',\n",
       " 'hummerstone',\n",
       " 'identity-management',\n",
       " 'incentive-bonus',\n",
       " 'index-arbitrage',\n",
       " 'index-options',\n",
       " 'index-related',\n",
       " 'industrial-production',\n",
       " 'ingersoll-rand',\n",
       " 'integra-a',\n",
       " 'intellectual-property',\n",
       " 'investor-relations',\n",
       " 'iran\\\\/contra',\n",
       " 'jalaalwalikraam',\n",
       " 'jerritts',\n",
       " 'junk-bond',\n",
       " 'kalipharma',\n",
       " 'lafite-rothschild',\n",
       " 'landonne',\n",
       " 'language-housekeeper',\n",
       " 'lap-shoulder',\n",
       " 'less-serious',\n",
       " 'lezovich',\n",
       " 'life-insurance',\n",
       " 'light-truck',\n",
       " 'limited-partnership',\n",
       " 'low-ability',\n",
       " 'low-ball',\n",
       " 'lower-priority',\n",
       " 'macheski',\n",
       " 'machine-gun-toting',\n",
       " 'macmillan\\\\/mcgraw',\n",
       " 'macmillan\\\\/mcgraw-hill',\n",
       " 'makato',\n",
       " 'malizia',\n",
       " 'market-share',\n",
       " 'marketing-communications',\n",
       " 'mehrens',\n",
       " 'meinders',\n",
       " 'merger-related',\n",
       " 'micronite',\n",
       " 'mininum-wage',\n",
       " 'moleculon',\n",
       " 'monchecourt',\n",
       " 'money-center',\n",
       " 'money-fund',\n",
       " 'money-market',\n",
       " 'morale-damaging',\n",
       " 'more-efficient',\n",
       " 'mortgage-based',\n",
       " 'mouth-up',\n",
       " 'muscolina',\n",
       " 'nagymaros',\n",
       " 'nearly-30',\n",
       " 'nekoosa',\n",
       " 'nesb',\n",
       " 'new-home',\n",
       " 'nih-appointed',\n",
       " 'nipponese',\n",
       " 'nissho-iwai',\n",
       " 'non-biodegradable',\n",
       " 'non-encapsulating',\n",
       " 'northy',\n",
       " 'norwick',\n",
       " 'ntg',\n",
       " 'odd-sounding',\n",
       " 'old-house',\n",
       " 'one-country',\n",
       " 'one-upsmanship',\n",
       " 'one-yen',\n",
       " 'page-one',\n",
       " 'pathlogy',\n",
       " 'pattenden',\n",
       " 'pennview',\n",
       " 'pianist-comedian',\n",
       " 'polyproplene',\n",
       " 'post-hearing',\n",
       " 'pramual',\n",
       " 'pre-1917',\n",
       " 'pre-1933',\n",
       " 'preparatives',\n",
       " 'prize-fighter',\n",
       " 'pro-forma',\n",
       " 'product-design',\n",
       " 'program-trading',\n",
       " 'purepac',\n",
       " 'purhasing',\n",
       " 'rapanelli',\n",
       " 'rate-sensitive',\n",
       " 'ratners',\n",
       " 're-thought',\n",
       " 'recession-inspired',\n",
       " 'red-blooded',\n",
       " 'red-flag',\n",
       " 'replacement-car',\n",
       " 'retin-a',\n",
       " 'revenue-desperate',\n",
       " 'rexinger',\n",
       " 'romanee-conti',\n",
       " 'roof-crush',\n",
       " 'rope-sight',\n",
       " 'rubinfien',\n",
       " 'sacramento-based',\n",
       " 'safe-deposit',\n",
       " 'samnick',\n",
       " 'sanderoff',\n",
       " 'satrum',\n",
       " 'savers\\\\/investors',\n",
       " 'savings-and-loan',\n",
       " 'school-board',\n",
       " 'school-district',\n",
       " 'school-improvement',\n",
       " 'school-research',\n",
       " 'search-and-seizure',\n",
       " 'secilia',\n",
       " 'securities-based',\n",
       " 'security-type',\n",
       " 'sell-offs',\n",
       " 'senate-house',\n",
       " 'sharedata',\n",
       " 'shirt-sleeved',\n",
       " 'side-crash',\n",
       " 'sino-u.s.',\n",
       " 'six-bottle',\n",
       " 'six-packs',\n",
       " 'small-company',\n",
       " 'social-studies',\n",
       " 'sogo-shosha',\n",
       " 'solaia',\n",
       " 'sometimes-exhausting',\n",
       " 'sometimes-tawdry',\n",
       " 'sport-utility',\n",
       " 'state-supervised',\n",
       " 'sticker-shock',\n",
       " 'stirlen',\n",
       " 'stock-index',\n",
       " 'stock-manipulation',\n",
       " 'student-test',\n",
       " 'sub-markets',\n",
       " 'sub-segments',\n",
       " 'subindustry',\n",
       " 'subminimum',\n",
       " 'subskill',\n",
       " 'subskills',\n",
       " 'summer\\\\/winter',\n",
       " 'superpremiums',\n",
       " 'synergistics',\n",
       " 'tarwhine',\n",
       " 'teacher-cadet',\n",
       " 'telephone-information',\n",
       " 'test-coaching',\n",
       " 'test-practice',\n",
       " 'test-prep',\n",
       " 'test-preparation',\n",
       " 'thin-lipped',\n",
       " 'three-lawyer',\n",
       " 'three-sevenths',\n",
       " 'times-stock',\n",
       " 'tiphook',\n",
       " 'tissue-transplant',\n",
       " 'top-yielding',\n",
       " 'trading-company',\n",
       " 'training-wage',\n",
       " 'trettien',\n",
       " 'trockenbeerenauslesen',\n",
       " 'twin-jet',\n",
       " 'twindam',\n",
       " 'two-sevenths',\n",
       " 'unenticing',\n",
       " 'unfair-trade',\n",
       " 'univest',\n",
       " 'uzi-model',\n",
       " 'veselich',\n",
       " 'video-viewing',\n",
       " 'vinken',\n",
       " 'vitulli',\n",
       " 'war-rationed',\n",
       " 'water-authority',\n",
       " 'we-japanese',\n",
       " 'weisfield',\n",
       " 'wfrr',\n",
       " 'wheel-loader',\n",
       " 'wheeland',\n",
       " 'when-issued',\n",
       " 'wine-buying',\n",
       " 'wtd',\n",
       " 'year-ago',\n",
       " 'year-earlier',\n",
       " 'yeargin',\n",
       " 'yen-denominated',\n",
       " 'yen-support'}"
      ]
     },
     "execution_count": 10,
     "metadata": {},
     "output_type": "execute_result"
    }
   ],
   "source": [
    "OOV_words"
   ]
  },
  {
   "cell_type": "code",
   "execution_count": 11,
   "metadata": {},
   "outputs": [
    {
     "data": {
      "text/plain": [
       "0.04426299957026214"
      ]
     },
     "execution_count": 11,
     "metadata": {},
     "output_type": "execute_result"
    }
   ],
   "source": [
    "proportion_OOV_words"
   ]
  },
  {
   "cell_type": "code",
   "execution_count": 12,
   "metadata": {},
   "outputs": [
    {
     "data": {
      "text/plain": [
       "[('[num]', 1016),\n",
       " ('-rrb-', 44),\n",
       " ('-lrb-', 41),\n",
       " ('yeargin', 37),\n",
       " ('-rcb-', 11),\n",
       " ('-lcb-', 11),\n",
       " ('stock-index', 10),\n",
       " ('cray-3', 9),\n",
       " ('nekoosa', 8),\n",
       " ('fetal-tissue', 8)]"
      ]
     },
     "execution_count": 12,
     "metadata": {},
     "output_type": "execute_result"
    }
   ],
   "source": [
    "OOV_words_counts[:10]"
   ]
  },
  {
   "cell_type": "code",
   "execution_count": 13,
   "metadata": {},
   "outputs": [
    {
     "name": "stdout",
     "output_type": "stream",
     "text": [
      "Building co-occurence matrix...\n",
      "Co-occurence matrix shape: (6981, 6981)\n",
      "\n",
      "Training OOV words...\n",
      "epochs: 10 loss: 129249.88\n",
      "epochs: 20 loss: 41076.758\n",
      "epochs: 30 loss: 16097.266\n",
      "epochs: 40 loss: 7271.6416\n",
      "epochs: 50 loss: 3909.3384\n",
      "epochs: 60 loss: 2500.2292\n",
      "epochs: 70 loss: 1877.2734\n",
      "epochs: 80 loss: 1581.08\n",
      "epochs: 90 loss: 1489.7239\n",
      "epochs: 100 loss: 1384.7136\n"
     ]
    },
    {
     "data": {
      "image/png": "[encoded data removed]",
      "text/plain": [
       "<Figure size 432x288 with 1 Axes>"
      ]
     },
     "metadata": {
      "needs_background": "light"
     },
     "output_type": "display_data"
    }
   ],
   "source": [
    "from utils.oov_handler import extend_embedding_model\n",
    "\n",
    "extended_embedding_model = extend_embedding_model(embedding_model=GLOVE_embeddings, texts=texts_train)"
   ]
  },
  {
   "cell_type": "code",
   "execution_count": 14,
   "metadata": {},
   "outputs": [
    {
     "data": {
      "text/plain": [
       "400309"
      ]
     },
     "execution_count": 14,
     "metadata": {},
     "output_type": "execute_result"
    }
   ],
   "source": [
    "len(extended_embedding_model)"
   ]
  },
  {
   "cell_type": "markdown",
   "metadata": {},
   "source": [
    "# OOV Terms Handling (Val set)"
   ]
  },
  {
   "cell_type": "code",
   "execution_count": 15,
   "metadata": {},
   "outputs": [],
   "source": [
    "from utils.oov_handler import get_OOV_analysis\n",
    "OOV_words, proportion_OOV_words, OOV_words_counts = get_OOV_analysis(embedding_model=extended_embedding_model, texts=texts_val)"
   ]
  },
  {
   "cell_type": "code",
   "execution_count": 16,
   "metadata": {},
   "outputs": [
    {
     "data": {
      "text/plain": [
       "152"
      ]
     },
     "execution_count": 16,
     "metadata": {},
     "output_type": "execute_result"
    }
   ],
   "source": [
    "len(OOV_words)"
   ]
  },
  {
   "cell_type": "code",
   "execution_count": 17,
   "metadata": {},
   "outputs": [
    {
     "data": {
      "text/plain": [
       "{'190-point',\n",
       " '1928-33',\n",
       " '1937-40',\n",
       " '20-stock',\n",
       " '238,000-circulation',\n",
       " '271-147',\n",
       " '29year',\n",
       " '3,040,000',\n",
       " '3,250,000',\n",
       " '300-113',\n",
       " '300-a-share',\n",
       " 'acid-rain',\n",
       " 'airline-related',\n",
       " 'anku',\n",
       " 'anti-deficiency',\n",
       " 'anti-miscarriage',\n",
       " 'anti-morning-sickness',\n",
       " 'anti-program',\n",
       " 'anti-programmers',\n",
       " 'arbitraging',\n",
       " 'arighi',\n",
       " 'ballantine\\\\/del',\n",
       " 'band-wagon',\n",
       " 'bank-backed',\n",
       " 'boogieman',\n",
       " 'bottom-line',\n",
       " 'breakey',\n",
       " 'buy-outs',\n",
       " 'c.d.s',\n",
       " 'capital-markets',\n",
       " 'car-care',\n",
       " 'car-development',\n",
       " 'card-member',\n",
       " 'certin',\n",
       " 'circuit-board',\n",
       " 'citizen-sparked',\n",
       " 'clean-air',\n",
       " 'cleaner-burning',\n",
       " 'contingency-fee',\n",
       " 'continuingly',\n",
       " 'corporate-wide',\n",
       " 'crane-safety',\n",
       " 'credit-rating',\n",
       " 'crystal-lattice',\n",
       " 'cup-tote',\n",
       " 'diceon',\n",
       " 'disaster-assistance',\n",
       " 'double-c',\n",
       " 'dydee',\n",
       " 'ednie',\n",
       " 'egnuss',\n",
       " 'electrical-safety',\n",
       " 'enzor',\n",
       " 'equity-purchase',\n",
       " 'executive-office',\n",
       " 'express-buick',\n",
       " 'fiber-end',\n",
       " 'financial-services',\n",
       " 'flim-flammery',\n",
       " 'foldability',\n",
       " 'food-industry',\n",
       " 'four-foot-high',\n",
       " 'free-enterprise',\n",
       " 'freshbake',\n",
       " 'freudtoy',\n",
       " 'gates-warren',\n",
       " 'hart-scott-rodino',\n",
       " 'heebie-jeebies',\n",
       " 'heiwado',\n",
       " 'herald-american',\n",
       " 'high-polluting',\n",
       " 'house-senate',\n",
       " 'housing-assistance',\n",
       " 'incentive-backed',\n",
       " 'index-fund',\n",
       " 'industry-supported',\n",
       " 'insider-trading',\n",
       " 'insurance-company',\n",
       " 'intecknings',\n",
       " 'investment-grade',\n",
       " 'labor-backed',\n",
       " 'land-idling',\n",
       " 'larger-than-normal',\n",
       " 'less-than-brilliant',\n",
       " 'lightning-fast',\n",
       " 'liquid-nitrogen',\n",
       " 'long-tenured',\n",
       " 'lookee-loos',\n",
       " 'lynch-mob',\n",
       " 'market-makers',\n",
       " 'mega-stadium',\n",
       " 'melt-textured',\n",
       " 'middle-ground',\n",
       " 'midwesco',\n",
       " 'million-a-year',\n",
       " 'minicrash',\n",
       " 'most-likely-successor',\n",
       " 'motor-home',\n",
       " 'much-larger',\n",
       " 'multi-crystal',\n",
       " 'mutchin',\n",
       " 'mutual-fund',\n",
       " 'n.v',\n",
       " 'new-car',\n",
       " 'news-american',\n",
       " 'non-callable',\n",
       " 'nylev',\n",
       " 'odd-year',\n",
       " 'one-house',\n",
       " 'one-newspaper',\n",
       " 'parts-engineering',\n",
       " 'pension-fund',\n",
       " 'phacoflex',\n",
       " 'potables',\n",
       " 'prevalance',\n",
       " 'price-depressing',\n",
       " 'price-support',\n",
       " 'pricings',\n",
       " 'profit-taking',\n",
       " 'propagandizes',\n",
       " 'property\\\\/casualty',\n",
       " 'prudential-bache',\n",
       " 'quantitive',\n",
       " 'radio-station',\n",
       " 'rey\\\\/fawcett',\n",
       " 'scypher',\n",
       " 'seven-million-ton',\n",
       " 'severable',\n",
       " 'shokubai',\n",
       " 'sidak',\n",
       " 'single-lot',\n",
       " 'stock-picking',\n",
       " 'stock-price',\n",
       " 'stock-selection',\n",
       " 'stock-specialist',\n",
       " 'substance-abusing',\n",
       " 'sulfur-dioxide',\n",
       " 'super-absorbent',\n",
       " 'superdot',\n",
       " 'takeover-stock',\n",
       " 'test-drive',\n",
       " 'then-speaker',\n",
       " 'tire-kickers',\n",
       " 'triple-a-rated',\n",
       " 'triple-c',\n",
       " 'truth-in-lending',\n",
       " 'two-time-losers',\n",
       " 'veraldi',\n",
       " 'walbrecher',\n",
       " 'wamre',\n",
       " 'write-downs',\n",
       " 'yttrium-containing'}"
      ]
     },
     "execution_count": 17,
     "metadata": {},
     "output_type": "execute_result"
    }
   ],
   "source": [
    "OOV_words"
   ]
  },
  {
   "cell_type": "code",
   "execution_count": 18,
   "metadata": {},
   "outputs": [
    {
     "data": {
      "text/plain": [
       "0.030278884462151396"
      ]
     },
     "execution_count": 18,
     "metadata": {},
     "output_type": "execute_result"
    }
   ],
   "source": [
    "proportion_OOV_words"
   ]
  },
  {
   "cell_type": "code",
   "execution_count": 19,
   "metadata": {},
   "outputs": [
    {
     "data": {
      "text/plain": [
       "[('investment-grade', 5),\n",
       " ('veraldi', 5),\n",
       " ('acid-rain', 3),\n",
       " ('clean-air', 3),\n",
       " ('multi-crystal', 3),\n",
       " ('egnuss', 3),\n",
       " ('buy-outs', 3),\n",
       " ('financial-services', 2),\n",
       " ('superdot', 2),\n",
       " ('sulfur-dioxide', 2)]"
      ]
     },
     "execution_count": 19,
     "metadata": {},
     "output_type": "execute_result"
    }
   ],
   "source": [
    "OOV_words_counts[:10]"
   ]
  },
  {
   "cell_type": "code",
   "execution_count": 22,
   "metadata": {},
   "outputs": [
    {
     "name": "stdout",
     "output_type": "stream",
     "text": [
      "Building co-occurence matrix...\n",
      "Co-occurence matrix shape: (5020, 5020)\n",
      "\n",
      "Training OOV words...\n",
      "epochs: 10 loss: 86816.58\n",
      "epochs: 20 loss: 27537.75\n",
      "epochs: 30 loss: 10698.965\n",
      "epochs: 40 loss: 4811.9863\n",
      "epochs: 50 loss: 2587.7969\n",
      "epochs: 60 loss: 1642.0376\n",
      "epochs: 70 loss: 1245.5399\n",
      "epochs: 80 loss: 1073.7012\n",
      "epochs: 90 loss: 954.4038\n",
      "epochs: 100 loss: 870.4676\n"
     ]
    },
    {
     "data": {
      "image/png": "[encoded data removed]",
      "text/plain": [
       "<Figure size 432x288 with 1 Axes>"
      ]
     },
     "metadata": {
      "needs_background": "light"
     },
     "output_type": "display_data"
    }
   ],
   "source": [
    "from utils.oov_handler import extend_embedding_model\n",
    "\n",
    "extended_embedding_model = extend_embedding_model(embedding_model=extended_embedding_model, texts=texts_val)"
   ]
  },
  {
   "cell_type": "code",
   "execution_count": 23,
   "metadata": {},
   "outputs": [
    {
     "data": {
      "text/plain": [
       "400461"
      ]
     },
     "execution_count": 23,
     "metadata": {},
     "output_type": "execute_result"
    }
   ],
   "source": [
    "len(extended_embedding_model)"
   ]
  },
  {
   "cell_type": "markdown",
   "metadata": {},
   "source": [
    "# OOV Terms Handling (Test set)"
   ]
  },
  {
   "cell_type": "code",
   "execution_count": 26,
   "metadata": {},
   "outputs": [],
   "source": [
    "from utils.oov_handler import get_OOV_analysis\n",
    "OOV_words, proportion_OOV_words, OOV_words_counts = get_OOV_analysis(embedding_model=extended_embedding_model, texts=texts_test)"
   ]
  },
  {
   "cell_type": "code",
   "execution_count": 27,
   "metadata": {},
   "outputs": [
    {
     "data": {
      "text/plain": [
       "88"
      ]
     },
     "execution_count": 27,
     "metadata": {},
     "output_type": "execute_result"
    }
   ],
   "source": [
    "len(OOV_words)"
   ]
  },
  {
   "cell_type": "code",
   "execution_count": 28,
   "metadata": {},
   "outputs": [
    {
     "data": {
      "text/plain": [
       "{'100-megabyte',\n",
       " '11,390,000',\n",
       " '11-month-old',\n",
       " '120-a-share',\n",
       " '154,240,000',\n",
       " '18-a-share',\n",
       " '19-month-old',\n",
       " '2,050-passenger',\n",
       " '226,570,380',\n",
       " '237-seat',\n",
       " '300-day',\n",
       " '36-store',\n",
       " '40-megabyte',\n",
       " '45-a-share',\n",
       " '55-a-share',\n",
       " '87-store',\n",
       " 'above-market',\n",
       " 'acquisition-minded',\n",
       " 'arbitrage-related',\n",
       " 'asset-valuation',\n",
       " 'bankruptcy-law',\n",
       " 'blood-cell',\n",
       " 'blue-chips',\n",
       " 'bread-and-butter',\n",
       " 'bronces',\n",
       " 'cash-and-stock',\n",
       " 'cents-a-unit',\n",
       " 'colorliner',\n",
       " 'computer-services',\n",
       " 'conn.based',\n",
       " 'constitutional-law',\n",
       " 'copper-rich',\n",
       " 'corn-buying',\n",
       " 'cost-control',\n",
       " 'crookery',\n",
       " 'derchin',\n",
       " 'diloreto',\n",
       " 'disputada',\n",
       " 'disputado',\n",
       " 'early-retirement',\n",
       " 'ex-dividend',\n",
       " 'exxon-owned',\n",
       " 'g.m.b',\n",
       " 'garden-variety',\n",
       " 'guber\\\\/peters',\n",
       " 'hadson',\n",
       " 'hasbrouk',\n",
       " 'headcount-control',\n",
       " 'heavy-truck',\n",
       " 'high-rolling',\n",
       " 'information-services',\n",
       " 'intelogic',\n",
       " 'inter-tel',\n",
       " 'interleukin-3',\n",
       " 'johnson-era',\n",
       " 'launch-vehicle',\n",
       " 'lentjes',\n",
       " 'life-of-contract',\n",
       " 'lobsenz',\n",
       " 'louisiana-pacific',\n",
       " 'manmade-fiber',\n",
       " 'mariotta',\n",
       " 'minimum-wage',\n",
       " 'more-advanced',\n",
       " 'near-limit',\n",
       " 'newspaper-printing',\n",
       " 'nofzinger',\n",
       " 'noncompetitively',\n",
       " 'passenger-car',\n",
       " 'per-share',\n",
       " 'prior-year',\n",
       " 'pro-iranian',\n",
       " 'protein-1',\n",
       " 'reupke',\n",
       " 'sept.30',\n",
       " 'seven-yen',\n",
       " 'several-year',\n",
       " 'sewing-machine',\n",
       " 'shareholder-rights',\n",
       " 'staff-reduction',\n",
       " 'tete-a-tete',\n",
       " 'txo',\n",
       " 'unicorp',\n",
       " 'waertsilae',\n",
       " 'waymar',\n",
       " 'weapons-modernization',\n",
       " 'yet-to-be-formed',\n",
       " 'yoshihashi'}"
      ]
     },
     "execution_count": 28,
     "metadata": {},
     "output_type": "execute_result"
    }
   ],
   "source": [
    "OOV_words"
   ]
  },
  {
   "cell_type": "code",
   "execution_count": 29,
   "metadata": {},
   "outputs": [
    {
     "data": {
      "text/plain": [
       "0.028720626631853787"
      ]
     },
     "execution_count": 29,
     "metadata": {},
     "output_type": "execute_result"
    }
   ],
   "source": [
    "proportion_OOV_words"
   ]
  },
  {
   "cell_type": "code",
   "execution_count": 30,
   "metadata": {},
   "outputs": [
    {
     "data": {
      "text/plain": [
       "[('waertsilae', 12),\n",
       " ('reupke', 6),\n",
       " ('lentjes', 5),\n",
       " ('intelogic', 5),\n",
       " ('mariotta', 4),\n",
       " ('interleukin-3', 4),\n",
       " ('per-share', 2),\n",
       " ('guber\\\\/peters', 2),\n",
       " ('154,240,000', 2),\n",
       " ('hadson', 2)]"
      ]
     },
     "execution_count": 30,
     "metadata": {},
     "output_type": "execute_result"
    }
   ],
   "source": [
    "OOV_words_counts[:10]"
   ]
  },
  {
   "cell_type": "code",
   "execution_count": 31,
   "metadata": {},
   "outputs": [
    {
     "name": "stdout",
     "output_type": "stream",
     "text": [
      "Building co-occurence matrix...\n",
      "Co-occurence matrix shape: (3064, 3064)\n",
      "\n",
      "Training OOV words...\n",
      "epochs: 10 loss: 51171.047\n",
      "epochs: 20 loss: 16186.734\n",
      "epochs: 30 loss: 6006.426\n",
      "epochs: 40 loss: 2576.5188\n",
      "epochs: 50 loss: 1281.1453\n",
      "epochs: 60 loss: 831.27686\n",
      "epochs: 70 loss: 595.9852\n",
      "epochs: 80 loss: 514.79486\n",
      "epochs: 90 loss: 469.40033\n",
      "epochs: 100 loss: 391.29572\n"
     ]
    },
    {
     "data": {
      "image/png": "[encoded data removed]",
      "text/plain": [
       "<Figure size 432x288 with 1 Axes>"
      ]
     },
     "metadata": {
      "needs_background": "light"
     },
     "output_type": "display_data"
    }
   ],
   "source": [
    "from utils.oov_handler import extend_embedding_model\n",
    "\n",
    "extended_embedding_model = extend_embedding_model(embedding_model=extended_embedding_model, texts=texts_test)"
   ]
  },
  {
   "cell_type": "code",
   "execution_count": 32,
   "metadata": {},
   "outputs": [
    {
     "data": {
      "text/plain": [
       "400549"
      ]
     },
     "execution_count": 32,
     "metadata": {},
     "output_type": "execute_result"
    }
   ],
   "source": [
    "len(extended_embedding_model)"
   ]
  },
  {
   "cell_type": "markdown",
   "metadata": {},
   "source": [
    "## Saving the extended Glove embeddings"
   ]
  },
  {
   "cell_type": "code",
   "execution_count": 34,
   "metadata": {},
   "outputs": [],
   "source": [
    "from utils.embedding_model_handler import store_embedding_model\n",
    "\n",
    "store_embedding_model(embedding_path='glove_pretrained/extended_glove.50d.txt', embedding_model=extended_embedding_model)"
   ]
  }
 ],
 "metadata": {
  "kernelspec": {
   "display_name": "Python 3.10.0 64-bit",
   "language": "python",
   "name": "python3"
  },
  "language_info": {
   "codemirror_mode": {
    "name": "ipython",
    "version": 3
   },
   "file_extension": ".py",
   "mimetype": "text/x-python",
   "name": "python",
   "nbconvert_exporter": "python",
   "pygments_lexer": "ipython3",
   "version": "3.10.0"
  },
  "orig_nbformat": 4,
  "vscode": {
   "interpreter": {
    "hash": "d14990a399795653de35f1f5395269163893147857e74010bc072f6042c8e8da"
   }
  }
 },
 "nbformat": 4,
 "nbformat_minor": 2
}
