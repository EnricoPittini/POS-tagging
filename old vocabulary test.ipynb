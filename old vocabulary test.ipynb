{
 "cells": [
  {
   "cell_type": "code",
   "execution_count": 1,
   "metadata": {},
   "outputs": [],
   "source": [
    "import numpy as np\n",
    "import matplotlib.pyplot as plt\n",
    "import os\n",
    "import sys\n",
    "\n",
    "import torch"
   ]
  },
  {
   "cell_type": "code",
   "execution_count": 16,
   "metadata": {},
   "outputs": [],
   "source": [
    "train_end=100\n",
    "validation_end=150\n",
    "\n",
    "data_path='data/dependency_treebank'"
   ]
  },
  {
   "cell_type": "code",
   "execution_count": 72,
   "metadata": {},
   "outputs": [],
   "source": [
    "files=os.listdir(data_path)\n",
    "\n",
    "train=[]\n",
    "validation=[]\n",
    "test=[]\n",
    "\n",
    "for i in range(train_end):\n",
    "    with open(data_path+'/'+files[i]) as f:\n",
    "        text=f.read().lower().splitlines()\n",
    "        train+=text\n",
    "\n",
    "\n",
    "for i in range(train_end,validation_end):\n",
    "    with open(data_path+'/'+files[i]) as f:\n",
    "        text=f.read().lower().splitlines()\n",
    "        validation+=text\n",
    "\n",
    "for i in range(validation_end,len(files)):\n",
    "    with open(data_path+'/'+files[i]) as f:\n",
    "        text=f.read().lower().splitlines()\n",
    "        test+=text\n",
    "\n",
    "\n",
    "\n",
    "train =      np.array([line.split()[:2] for line in train      if len(line)>0])\n",
    "validation = np.array([line.split()[:2] for line in validation if len(line)>0])\n",
    "test =       np.array([line.split()[:2] for line in test       if len(line)>0])"
   ]
  },
  {
   "cell_type": "code",
   "execution_count": 113,
   "metadata": {},
   "outputs": [
    {
     "data": {
      "text/plain": [
       "{'#': 0,\n",
       " '$': 1,\n",
       " \"''\": 2,\n",
       " ',': 3,\n",
       " '-lrb-': 4,\n",
       " '-rrb-': 5,\n",
       " '.': 6,\n",
       " ':': 7,\n",
       " '``': 8,\n",
       " 'cc': 9,\n",
       " 'cd': 10,\n",
       " 'dt': 11,\n",
       " 'ex': 12,\n",
       " 'fw': 13,\n",
       " 'in': 14,\n",
       " 'jj': 15,\n",
       " 'jjr': 16,\n",
       " 'jjs': 17,\n",
       " 'ls': 18,\n",
       " 'md': 19,\n",
       " 'nn': 20,\n",
       " 'nnp': 21,\n",
       " 'nnps': 22,\n",
       " 'nns': 23,\n",
       " 'pdt': 24,\n",
       " 'pos': 25,\n",
       " 'prp': 26,\n",
       " 'prp$': 27,\n",
       " 'rb': 28,\n",
       " 'rbr': 29,\n",
       " 'rbs': 30,\n",
       " 'rp': 31,\n",
       " 'sym': 32,\n",
       " 'to': 33,\n",
       " 'uh': 34,\n",
       " 'vb': 35,\n",
       " 'vbd': 36,\n",
       " 'vbg': 37,\n",
       " 'vbn': 38,\n",
       " 'vbp': 39,\n",
       " 'vbz': 40,\n",
       " 'wdt': 41,\n",
       " 'wp': 42,\n",
       " 'wp$': 43,\n",
       " 'wrb': 44}"
      ]
     },
     "execution_count": 113,
     "metadata": {},
     "output_type": "execute_result"
    }
   ],
   "source": [
    "tag_tokenizer"
   ]
  },
  {
   "cell_type": "code",
   "execution_count": 112,
   "metadata": {},
   "outputs": [],
   "source": [
    "tags=np.unique(train[:,1])\n",
    "tag_tokenizer={t:i for i, t in enumerate(tags)}"
   ]
  },
  {
   "cell_type": "code",
   "execution_count": 74,
   "metadata": {},
   "outputs": [],
   "source": [
    "GLOVE_embedding=[]\n",
    "with open('data/glove_pretrained/glove.6B.50d.txt', 'r', encoding=\"utf-8\") as f:\n",
    "    text=f.read().splitlines()\n",
    "    GLOVE_embedding+=text\n",
    "\n",
    "GLOVE_embedding = [line.split() for line in GLOVE_embedding if len(line)>0]\n",
    "GLOVE_embedding = {line[0]:np.array(line[1:]) for line in GLOVE_embedding}"
   ]
  },
  {
   "cell_type": "code",
   "execution_count": 75,
   "metadata": {},
   "outputs": [
    {
     "data": {
      "text/plain": [
       "array(['pierre', 'vinken', ',', ..., 'has', 'faced', '.'], dtype='<U24')"
      ]
     },
     "execution_count": 75,
     "metadata": {},
     "output_type": "execute_result"
    }
   ],
   "source": [
    "train[:,0]"
   ]
  },
  {
   "cell_type": "code",
   "execution_count": 109,
   "metadata": {},
   "outputs": [
    {
     "data": {
      "text/plain": [
       "array([['62%-owned', 'jj']], dtype='<U24')"
      ]
     },
     "execution_count": 109,
     "metadata": {},
     "output_type": "execute_result"
    }
   ],
   "source": [
    "OOV1 = train[np.where([name not in GLOVE_embedding.keys() for name in train[:,0] ])]\n",
    "i=np.random.randint(len(OOV1))\n",
    "OOV1[np.char.find(OOV1[:,0],'62%-owned')>-1]\n",
    "#np.unique(OOV1[:,0])"
   ]
  },
  {
   "cell_type": "code",
   "execution_count": 80,
   "metadata": {},
   "outputs": [
    {
     "data": {
      "text/plain": [
       "array(['-0.32313', '0.89266', '0.54943', '0.59294', '0.56707', '0.37888',\n",
       "       '-0.036071', '-0.18445', '-0.6102', '-0.27874', '0.1987',\n",
       "       '-0.13458', '-0.12', '-0.80437', '0.69032', '-0.56864', '-0.3787',\n",
       "       '0.022928', '-1.6365', '0.43987', '0.2869', '-0.99327', '1.2016',\n",
       "       '0.40906', '-1.0473', '-0.80572', '0.78073', '-0.298', '0.49566',\n",
       "       '-0.18523', '3.6489', '0.30559', '-0.59888', '0.84786', '0.30806',\n",
       "       '-0.46975', '0.51175', '0.44654', '0.86962', '-0.83334', '0.95202',\n",
       "       '-0.68141', '0.52714', '-0.9841', '-0.68455', '1.1837', '0.16568',\n",
       "       '-0.34587', '0.49963', '0.47765'], dtype='<U9')"
      ]
     },
     "execution_count": 80,
     "metadata": {},
     "output_type": "execute_result"
    }
   ],
   "source": [
    "GLOVE_embedding['1']"
   ]
  }
 ],
 "metadata": {
  "kernelspec": {
   "display_name": "Python 3.10.0 64-bit",
   "language": "python",
   "name": "python3"
  },
  "language_info": {
   "codemirror_mode": {
    "name": "ipython",
    "version": 3
   },
   "file_extension": ".py",
   "mimetype": "text/x-python",
   "name": "python",
   "nbconvert_exporter": "python",
   "pygments_lexer": "ipython3",
   "version": "3.10.0"
  },
  "orig_nbformat": 4,
  "vscode": {
   "interpreter": {
    "hash": "d14990a399795653de35f1f5395269163893147857e74010bc072f6042c8e8da"
   }
  }
 },
 "nbformat": 4,
 "nbformat_minor": 2
}
