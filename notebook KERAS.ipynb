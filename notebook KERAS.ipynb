{
 "cells": [
  {
   "cell_type": "code",
   "execution_count": 1,
   "metadata": {},
   "outputs": [],
   "source": [
    "import os \n",
    "import random \n",
    "\n",
    "import numpy as np\n",
    "import tensorflow as tf\n",
    "import matplotlib.pyplot as plt"
   ]
  },
  {
   "cell_type": "code",
   "execution_count": 2,
   "metadata": {},
   "outputs": [],
   "source": [
    "%load_ext autoreload\n",
    "%autoreload 2"
   ]
  },
  {
   "cell_type": "code",
   "execution_count": 3,
   "metadata": {},
   "outputs": [],
   "source": [
    "# Set reprodicibility\n",
    "\n",
    "seed = 41\n",
    "\n",
    "random.seed(seed)\n",
    "np.random.seed(seed)\n",
    "tf.random.set_seed(seed)\n",
    "os.environ['TF_DETERMINISTIC_OPS'] = '1'"
   ]
  },
  {
   "cell_type": "markdown",
   "metadata": {},
   "source": [
    "## Dataset loading"
   ]
  },
  {
   "cell_type": "code",
   "execution_count": 4,
   "metadata": {},
   "outputs": [],
   "source": [
    "from utils.dataset_loader import load_datasets\n",
    "\n",
    "(texts_train, labels_train), (texts_val, labels_val), (texts_test, labels_test) = load_datasets(folder_path='dataset', \n",
    "                                                                                                divide_by_sentence=True)\n"
   ]
  },
  {
   "cell_type": "markdown",
   "metadata": {},
   "source": [
    "Vectorizing the texts"
   ]
  },
  {
   "cell_type": "code",
   "execution_count": 5,
   "metadata": {},
   "outputs": [],
   "source": [
    "from tensorflow.keras.layers import TextVectorization\n",
    "\n",
    "texts = texts_train + texts_val + texts_test\n",
    "\n",
    "sequence_length = 50\n",
    "\n",
    "vectorizer = TextVectorization(output_sequence_length=sequence_length, standardize=None)  \n",
    "\n",
    "vectorizer.adapt(data=texts)\n",
    "\n",
    "x = vectorizer(texts)\n",
    "\n",
    "# Map from integers to word types\n",
    "vocabulary = np.array(vectorizer.get_vocabulary())\n",
    "\n",
    "x_train = x[:len(texts_train)]\n",
    "x_val = x[len(texts_train):len(texts_train)+len(texts_val)]\n",
    "x_test = x[len(texts_train)+len(texts_val):]"
   ]
  },
  {
   "cell_type": "markdown",
   "metadata": {},
   "source": [
    "Vectorizing the labels"
   ]
  },
  {
   "cell_type": "code",
   "execution_count": 6,
   "metadata": {},
   "outputs": [],
   "source": [
    "from tensorflow.keras.layers import TextVectorization\n",
    "\n",
    "labels = labels_train + labels_val + labels_test\n",
    "\n",
    "sequence_length = 50\n",
    "\n",
    "vectorizer_labels = TextVectorization(output_sequence_length=sequence_length, standardize=None) \n",
    "\n",
    "vectorizer_labels.adapt(data=labels)\n",
    "\n",
    "y = vectorizer_labels(labels)\n",
    "\n",
    "# Map from integers to POS tags\n",
    "vocabulary_labels = np.array(vectorizer_labels.get_vocabulary())\n",
    "\n",
    "y_train = y[:len(labels_train)]\n",
    "y_val = y[len(labels_train):len(labels_train)+len(labels_val)]\n",
    "y_test = y[len(labels_train)+len(labels_val):]\n",
    "\n",
    "n_classes = len(vocabulary_labels)\n",
    "\n",
    "# The punctuation POS tags\n",
    "punctuation_tags = [',', '.', ':', '``', \"''\"]\n",
    "# The integers corresponding to the punctuation POS tags\n",
    "punctuation_integers = [i for i,pos_tag in enumerate(vocabulary_labels) if pos_tag in punctuation_tags]"
   ]
  },
  {
   "cell_type": "markdown",
   "metadata": {},
   "source": [
    "Glove embeddings"
   ]
  },
  {
   "cell_type": "code",
   "execution_count": 7,
   "metadata": {},
   "outputs": [],
   "source": [
    "from utils.glove_loader import load_glove\n",
    "\n",
    "embedding_dimension = 50\n",
    "\n",
    "GLOVE_embeddings = load_glove(folder_path='glove_pretrained', embedding_dim=embedding_dimension)"
   ]
  },
  {
   "cell_type": "markdown",
   "metadata": {},
   "source": [
    "Embedding matrix"
   ]
  },
  {
   "cell_type": "code",
   "execution_count": 8,
   "metadata": {},
   "outputs": [],
   "source": [
    "from utils.embedding_matrix_builder import build_embedding_matrix\n",
    "\n",
    "embedding_matrix = build_embedding_matrix(vocabulary=vocabulary, GLOVE_embeddings=GLOVE_embeddings, embedding_dimension=embedding_dimension)"
   ]
  },
  {
   "cell_type": "markdown",
   "metadata": {},
   "source": [
    "Early stopping callback"
   ]
  },
  {
   "cell_type": "code",
   "execution_count": 9,
   "metadata": {},
   "outputs": [],
   "source": [
    "callback = tf.keras.callbacks.EarlyStopping(monitor='val_accuracy', \n",
    "                                            patience=3,\n",
    "                                            min_delta=1e-3,\n",
    "                                            restore_best_weights=True)"
   ]
  },
  {
   "cell_type": "markdown",
   "metadata": {},
   "source": [
    "## Baseline Model"
   ]
  },
  {
   "cell_type": "code",
   "execution_count": 10,
   "metadata": {},
   "outputs": [],
   "source": [
    "from models.baseline_model import build_baseline_model\n",
    "\n",
    "baseline_model = build_baseline_model(n_classes=n_classes, embedding_matrix=embedding_matrix)"
   ]
  },
  {
   "cell_type": "code",
   "execution_count": 11,
   "metadata": {},
   "outputs": [
    {
     "name": "stdout",
     "output_type": "stream",
     "text": [
      "Model: \"model\"\n",
      "_________________________________________________________________\n",
      " Layer (type)                Output Shape              Param #   \n",
      "=================================================================\n",
      " input_1 (InputLayer)        [(None, None)]            0         \n",
      "                                                                 \n",
      " embedding (Embedding)       (None, None, 50)          547450    \n",
      "                                                                 \n",
      " bidirectional (Bidirectiona  [(None, None, 256),      183296    \n",
      " l)                           (None, 128),                       \n",
      "                              (None, 128),                       \n",
      "                              (None, 128),                       \n",
      "                              (None, 128)]                       \n",
      "                                                                 \n",
      " dense (Dense)               (None, None, 47)          12079     \n",
      "                                                                 \n",
      "=================================================================\n",
      "Total params: 742,825\n",
      "Trainable params: 742,825\n",
      "Non-trainable params: 0\n",
      "_________________________________________________________________\n"
     ]
    }
   ],
   "source": [
    "baseline_model.summary()"
   ]
  },
  {
   "cell_type": "code",
   "execution_count": 12,
   "metadata": {},
   "outputs": [],
   "source": [
    "baseline_model.compile(loss=tf.keras.losses.SparseCategoricalCrossentropy(from_logits=True), optimizer='adam', \n",
    "                       metrics=['accuracy'])"
   ]
  },
  {
   "cell_type": "code",
   "execution_count": 13,
   "metadata": {},
   "outputs": [
    {
     "name": "stdout",
     "output_type": "stream",
     "text": [
      "Epoch 1/50\n",
      "62/62 [==============================] - 13s 113ms/step - loss: 2.5923 - accuracy: 0.3241 - val_loss: 1.8711 - val_accuracy: 0.5224\n",
      "Epoch 2/50\n",
      "62/62 [==============================] - 5s 78ms/step - loss: 1.3466 - accuracy: 0.6611 - val_loss: 1.0225 - val_accuracy: 0.7429\n",
      "Epoch 3/50\n",
      "62/62 [==============================] - 5s 79ms/step - loss: 0.7764 - accuracy: 0.8054 - val_loss: 0.6977 - val_accuracy: 0.8191\n",
      "Epoch 4/50\n",
      "62/62 [==============================] - 5s 81ms/step - loss: 0.5336 - accuracy: 0.8630 - val_loss: 0.5462 - val_accuracy: 0.8537\n",
      "Epoch 5/50\n",
      "62/62 [==============================] - 5s 78ms/step - loss: 0.4049 - accuracy: 0.8961 - val_loss: 0.4592 - val_accuracy: 0.8740\n",
      "Epoch 6/50\n",
      "62/62 [==============================] - 5s 77ms/step - loss: 0.3215 - accuracy: 0.9167 - val_loss: 0.4096 - val_accuracy: 0.8851\n",
      "Epoch 7/50\n",
      "62/62 [==============================] - 5s 77ms/step - loss: 0.2633 - accuracy: 0.9317 - val_loss: 0.3745 - val_accuracy: 0.8939\n",
      "Epoch 8/50\n",
      "62/62 [==============================] - 5s 78ms/step - loss: 0.2181 - accuracy: 0.9436 - val_loss: 0.3439 - val_accuracy: 0.9013\n",
      "Epoch 9/50\n",
      "62/62 [==============================] - 5s 80ms/step - loss: 0.1833 - accuracy: 0.9525 - val_loss: 0.3261 - val_accuracy: 0.9071\n",
      "Epoch 10/50\n",
      "62/62 [==============================] - 5s 78ms/step - loss: 0.1545 - accuracy: 0.9613 - val_loss: 0.3151 - val_accuracy: 0.9094\n",
      "Epoch 11/50\n",
      "62/62 [==============================] - 5s 78ms/step - loss: 0.1363 - accuracy: 0.9656 - val_loss: 0.3085 - val_accuracy: 0.9121\n",
      "Epoch 12/50\n",
      "62/62 [==============================] - 5s 79ms/step - loss: 0.1146 - accuracy: 0.9720 - val_loss: 0.3024 - val_accuracy: 0.9140\n",
      "Epoch 13/50\n",
      "62/62 [==============================] - 5s 81ms/step - loss: 0.0984 - accuracy: 0.9764 - val_loss: 0.2969 - val_accuracy: 0.9148\n",
      "Epoch 14/50\n",
      "62/62 [==============================] - 5s 79ms/step - loss: 0.0854 - accuracy: 0.9796 - val_loss: 0.2933 - val_accuracy: 0.9169\n",
      "Epoch 15/50\n",
      "62/62 [==============================] - 5s 79ms/step - loss: 0.0744 - accuracy: 0.9834 - val_loss: 0.2921 - val_accuracy: 0.9185\n",
      "Epoch 16/50\n",
      "62/62 [==============================] - 5s 79ms/step - loss: 0.0645 - accuracy: 0.9855 - val_loss: 0.2968 - val_accuracy: 0.9171\n",
      "Epoch 17/50\n",
      "62/62 [==============================] - 5s 83ms/step - loss: 0.0554 - accuracy: 0.9881 - val_loss: 0.2971 - val_accuracy: 0.9180\n",
      "Epoch 18/50\n",
      "62/62 [==============================] - 5s 86ms/step - loss: 0.0490 - accuracy: 0.9904 - val_loss: 0.2998 - val_accuracy: 0.9176\n"
     ]
    }
   ],
   "source": [
    "baseline_model_history = baseline_model.fit(x=x_train, y=y_train, batch_size=32, epochs=50, validation_data=(x_val, y_val),\n",
    "                                            callbacks=[callback])"
   ]
  },
  {
   "cell_type": "code",
   "execution_count": 14,
   "metadata": {},
   "outputs": [
    {
     "data": {
      "image/png": "[encoded data removed]",
      "text/plain": [
       "<Figure size 432x288 with 1 Axes>"
      ]
     },
     "metadata": {
      "needs_background": "light"
     },
     "output_type": "display_data"
    },
    {
     "data": {
      "image/png": "[encoded data removed]",
      "text/plain": [
       "<Figure size 432x288 with 1 Axes>"
      ]
     },
     "metadata": {
      "needs_background": "light"
     },
     "output_type": "display_data"
    }
   ],
   "source": [
    "from utils.evaluate import plot_history\n",
    "\n",
    "plot_history(baseline_model_history)"
   ]
  },
  {
   "cell_type": "markdown",
   "metadata": {},
   "source": [
    "### Check the predicted labels on a single test sentence"
   ]
  },
  {
   "cell_type": "code",
   "execution_count": 15,
   "metadata": {},
   "outputs": [
    {
     "name": "stdout",
     "output_type": "stream",
     "text": [
      "Sentence: intelogic trace inc. , san antonio , texas , said it bought 2.7 million shares , or about 18 % , of its common stock from an unaffiliated shareholder for $ 3.625 a share , or $ 9.9 million .\n"
     ]
    }
   ],
   "source": [
    "print('Sentence:', texts_test[0])"
   ]
  },
  {
   "cell_type": "code",
   "execution_count": 16,
   "metadata": {},
   "outputs": [
    {
     "name": "stdout",
     "output_type": "stream",
     "text": [
      "True POS tags: NNP NNP NNP , NNP NNP , NNP , VBD PRP VBD CD CD NNS , CC IN CD NN , IN PRP$ JJ NN IN DT JJ NN IN $ CD DT NN , CC $ CD CD .\n"
     ]
    }
   ],
   "source": [
    "print('True POS tags:', labels_test[0])"
   ]
  },
  {
   "cell_type": "code",
   "execution_count": 17,
   "metadata": {},
   "outputs": [
    {
     "name": "stdout",
     "output_type": "stream",
     "text": [
      "Predicted POS tags: ['NNP' 'NNP' 'NNP' ',' 'NNP' 'NNP' ',' 'NNP' ',' 'VBD' 'PRP' 'VBD' 'CD'\n",
      " 'CD' 'NNS' ',' 'CC' 'RB' 'CD' 'NN' ',' 'IN' 'PRP$' 'JJ' 'NN' 'IN' 'DT'\n",
      " 'JJ' 'NN' 'IN' '$' 'CD' 'DT' 'NN' ',' 'CC' '$' 'CD' 'CD' '.']\n"
     ]
    }
   ],
   "source": [
    "print('Predicted POS tags:', vocabulary_labels[np.argmax(baseline_model(x_test[0:1]), axis=2)][0][:len(labels_test[0].split())])"
   ]
  },
  {
   "cell_type": "markdown",
   "metadata": {},
   "source": [
    "### Test score"
   ]
  },
  {
   "cell_type": "code",
   "execution_count": 18,
   "metadata": {},
   "outputs": [
    {
     "name": "stdout",
     "output_type": "stream",
     "text": [
      "20/20 [==============================] - 0s 15ms/step - loss: 0.2723 - accuracy: 0.9216\n"
     ]
    },
    {
     "data": {
      "text/plain": [
       "[0.2722839415073395, 0.9216345548629761]"
      ]
     },
     "execution_count": 18,
     "metadata": {},
     "output_type": "execute_result"
    }
   ],
   "source": [
    "baseline_model.evaluate(x_test, y_test)"
   ]
  },
  {
   "cell_type": "markdown",
   "metadata": {},
   "source": [
    "### F1 macro (no punctuation)"
   ]
  },
  {
   "cell_type": "code",
   "execution_count": 19,
   "metadata": {},
   "outputs": [
    {
     "data": {
      "text/plain": [
       "0.6913414797083668"
      ]
     },
     "execution_count": 19,
     "metadata": {},
     "output_type": "execute_result"
    }
   ],
   "source": [
    "# Validation\n",
    "\n",
    "from utils.evaluate import f1_macro\n",
    "\n",
    "y_pred_val = np.argmax(baseline_model(x_val), axis=2)\n",
    "\n",
    "f1_macro(y_true=y_val, y_pred=y_pred_val, punctuation_integers=punctuation_integers)"
   ]
  },
  {
   "cell_type": "code",
   "execution_count": 20,
   "metadata": {},
   "outputs": [
    {
     "data": {
      "text/plain": [
       "0.7850556344583299"
      ]
     },
     "execution_count": 20,
     "metadata": {},
     "output_type": "execute_result"
    }
   ],
   "source": [
    "# Test\n",
    "\n",
    "from utils.evaluate import f1_macro\n",
    "\n",
    "y_pred_test = np.argmax(baseline_model(x_test), axis=2)\n",
    "\n",
    "f1_macro(y_true=y_test, y_pred=y_pred_test, punctuation_integers=punctuation_integers)"
   ]
  },
  {
   "cell_type": "markdown",
   "metadata": {},
   "source": [
    "## First Model"
   ]
  },
  {
   "cell_type": "code",
   "execution_count": 21,
   "metadata": {},
   "outputs": [],
   "source": [
    "from models.first_model import build_first_model\n",
    "\n",
    "first_model = build_first_model(n_classes=n_classes, embedding_matrix=embedding_matrix)"
   ]
  },
  {
   "cell_type": "code",
   "execution_count": 22,
   "metadata": {},
   "outputs": [
    {
     "name": "stdout",
     "output_type": "stream",
     "text": [
      "Model: \"model_1\"\n",
      "_________________________________________________________________\n",
      " Layer (type)                Output Shape              Param #   \n",
      "=================================================================\n",
      " input_2 (InputLayer)        [(None, None)]            0         \n",
      "                                                                 \n",
      " embedding_1 (Embedding)     (None, None, 50)          547450    \n",
      "                                                                 \n",
      " bidirectional_1 (Bidirectio  [(None, None, 256),      138240    \n",
      " nal)                         (None, 128),                       \n",
      "                              (None, 128)]                       \n",
      "                                                                 \n",
      " dense_1 (Dense)             (None, None, 47)          12079     \n",
      "                                                                 \n",
      "=================================================================\n",
      "Total params: 697,769\n",
      "Trainable params: 697,769\n",
      "Non-trainable params: 0\n",
      "_________________________________________________________________\n"
     ]
    }
   ],
   "source": [
    "first_model.summary()"
   ]
  },
  {
   "cell_type": "code",
   "execution_count": 23,
   "metadata": {},
   "outputs": [],
   "source": [
    "first_model.compile(loss=tf.keras.losses.SparseCategoricalCrossentropy(from_logits=True), optimizer='adam', metrics=['accuracy'])"
   ]
  },
  {
   "cell_type": "code",
   "execution_count": 24,
   "metadata": {},
   "outputs": [
    {
     "name": "stdout",
     "output_type": "stream",
     "text": [
      "Epoch 1/20\n",
      "62/62 [==============================] - 15s 106ms/step - loss: 2.3044 - accuracy: 0.4171 - val_loss: 1.4157 - val_accuracy: 0.6511\n",
      "Epoch 2/20\n",
      "62/62 [==============================] - 4s 68ms/step - loss: 0.9862 - accuracy: 0.7516 - val_loss: 0.7734 - val_accuracy: 0.7949\n",
      "Epoch 3/20\n",
      "62/62 [==============================] - 4s 67ms/step - loss: 0.5831 - accuracy: 0.8476 - val_loss: 0.5545 - val_accuracy: 0.8472\n",
      "Epoch 4/20\n",
      "62/62 [==============================] - 4s 68ms/step - loss: 0.4166 - accuracy: 0.8886 - val_loss: 0.4577 - val_accuracy: 0.8720\n",
      "Epoch 5/20\n",
      "62/62 [==============================] - 4s 66ms/step - loss: 0.3234 - accuracy: 0.9143 - val_loss: 0.3970 - val_accuracy: 0.8879\n",
      "Epoch 6/20\n",
      "62/62 [==============================] - 4s 69ms/step - loss: 0.2588 - accuracy: 0.9316 - val_loss: 0.3595 - val_accuracy: 0.8955\n",
      "Epoch 7/20\n",
      "62/62 [==============================] - 4s 69ms/step - loss: 0.2124 - accuracy: 0.9439 - val_loss: 0.3302 - val_accuracy: 0.9035\n",
      "Epoch 8/20\n",
      "62/62 [==============================] - 4s 68ms/step - loss: 0.1741 - accuracy: 0.9537 - val_loss: 0.3109 - val_accuracy: 0.9097\n",
      "Epoch 9/20\n",
      "62/62 [==============================] - 4s 68ms/step - loss: 0.1452 - accuracy: 0.9622 - val_loss: 0.2997 - val_accuracy: 0.9130\n",
      "Epoch 10/20\n",
      "62/62 [==============================] - 4s 71ms/step - loss: 0.1210 - accuracy: 0.9690 - val_loss: 0.2899 - val_accuracy: 0.9146\n",
      "Epoch 11/20\n",
      "62/62 [==============================] - 4s 67ms/step - loss: 0.1040 - accuracy: 0.9733 - val_loss: 0.2866 - val_accuracy: 0.9174\n",
      "Epoch 12/20\n",
      "62/62 [==============================] - 4s 70ms/step - loss: 0.0872 - accuracy: 0.9782 - val_loss: 0.2832 - val_accuracy: 0.9181\n",
      "Epoch 13/20\n",
      "62/62 [==============================] - 4s 68ms/step - loss: 0.0742 - accuracy: 0.9821 - val_loss: 0.2844 - val_accuracy: 0.9176\n",
      "Epoch 14/20\n",
      "62/62 [==============================] - 4s 67ms/step - loss: 0.0634 - accuracy: 0.9852 - val_loss: 0.2824 - val_accuracy: 0.9203\n",
      "Epoch 15/20\n",
      "62/62 [==============================] - 4s 69ms/step - loss: 0.0545 - accuracy: 0.9875 - val_loss: 0.2852 - val_accuracy: 0.9206\n",
      "Epoch 16/20\n",
      "62/62 [==============================] - 4s 67ms/step - loss: 0.0460 - accuracy: 0.9902 - val_loss: 0.2917 - val_accuracy: 0.9199\n",
      "Epoch 17/20\n",
      "62/62 [==============================] - 4s 72ms/step - loss: 0.0392 - accuracy: 0.9916 - val_loss: 0.2939 - val_accuracy: 0.9194\n"
     ]
    }
   ],
   "source": [
    "first_model_history = first_model.fit(x=x_train, y=y_train, batch_size=32, epochs=20, validation_data=(x_val, y_val),\n",
    "                                      callbacks=[callback])"
   ]
  },
  {
   "cell_type": "code",
   "execution_count": 25,
   "metadata": {},
   "outputs": [
    {
     "data": {
      "image/png": "[encoded data removed]",
      "text/plain": [
       "<Figure size 432x288 with 1 Axes>"
      ]
     },
     "metadata": {
      "needs_background": "light"
     },
     "output_type": "display_data"
    },
    {
     "data": {
      "image/png": "[encoded data removed]",
      "text/plain": [
       "<Figure size 432x288 with 1 Axes>"
      ]
     },
     "metadata": {
      "needs_background": "light"
     },
     "output_type": "display_data"
    }
   ],
   "source": [
    "from utils.evaluate import plot_history\n",
    "\n",
    "plot_history(first_model_history)"
   ]
  },
  {
   "cell_type": "markdown",
   "metadata": {},
   "source": [
    "### Check the predicted labels on a single test sentence"
   ]
  },
  {
   "cell_type": "code",
   "execution_count": 26,
   "metadata": {},
   "outputs": [
    {
     "name": "stdout",
     "output_type": "stream",
     "text": [
      "Sentence: intelogic trace inc. , san antonio , texas , said it bought 2.7 million shares , or about 18 % , of its common stock from an unaffiliated shareholder for $ 3.625 a share , or $ 9.9 million .\n"
     ]
    }
   ],
   "source": [
    "print('Sentence:', texts_test[0])"
   ]
  },
  {
   "cell_type": "code",
   "execution_count": 27,
   "metadata": {},
   "outputs": [
    {
     "name": "stdout",
     "output_type": "stream",
     "text": [
      "True POS tags: NNP NNP NNP , NNP NNP , NNP , VBD PRP VBD CD CD NNS , CC IN CD NN , IN PRP$ JJ NN IN DT JJ NN IN $ CD DT NN , CC $ CD CD .\n"
     ]
    }
   ],
   "source": [
    "print('True POS tags:', labels_test[0])"
   ]
  },
  {
   "cell_type": "code",
   "execution_count": 28,
   "metadata": {},
   "outputs": [
    {
     "name": "stdout",
     "output_type": "stream",
     "text": [
      "Predicted POS tags: ['NNP' 'NNP' 'NNP' ',' 'NNP' 'NNP' ',' 'NNP' ',' 'VBD' 'PRP' 'VBD' 'CD'\n",
      " 'CD' 'NNS' ',' 'CC' 'RB' 'CD' 'NN' ',' 'IN' 'PRP$' 'JJ' 'NN' 'IN' 'DT'\n",
      " 'JJ' 'NN' 'IN' '$' 'CD' 'DT' 'NN' ',' 'CC' '$' 'CD' 'CD' '.']\n"
     ]
    }
   ],
   "source": [
    "print('Predicted POS tags:', vocabulary_labels[np.argmax(first_model(x_test[0:1]), axis=2)][0][:len(labels_test[0].split())])"
   ]
  },
  {
   "cell_type": "markdown",
   "metadata": {},
   "source": [
    "### Test score"
   ]
  },
  {
   "cell_type": "code",
   "execution_count": 29,
   "metadata": {},
   "outputs": [
    {
     "name": "stdout",
     "output_type": "stream",
     "text": [
      "20/20 [==============================] - 0s 12ms/step - loss: 0.2635 - accuracy: 0.9233\n"
     ]
    },
    {
     "data": {
      "text/plain": [
       "[0.2634931206703186, 0.9232509732246399]"
      ]
     },
     "execution_count": 29,
     "metadata": {},
     "output_type": "execute_result"
    }
   ],
   "source": [
    "first_model.evaluate(x_test, y_test)"
   ]
  },
  {
   "cell_type": "markdown",
   "metadata": {},
   "source": [
    "### F1 macro (no punctuation)"
   ]
  },
  {
   "cell_type": "code",
   "execution_count": 30,
   "metadata": {},
   "outputs": [
    {
     "data": {
      "text/plain": [
       "0.7000354892810248"
      ]
     },
     "execution_count": 30,
     "metadata": {},
     "output_type": "execute_result"
    }
   ],
   "source": [
    "# Validation\n",
    "\n",
    "from utils.evaluate import f1_macro\n",
    "\n",
    "y_pred_val = np.argmax(first_model(x_val), axis=2)\n",
    "\n",
    "f1_macro(y_true=y_val, y_pred=y_pred_val, punctuation_integers=punctuation_integers)"
   ]
  },
  {
   "cell_type": "code",
   "execution_count": 31,
   "metadata": {},
   "outputs": [
    {
     "data": {
      "text/plain": [
       "0.7931295135910058"
      ]
     },
     "execution_count": 31,
     "metadata": {},
     "output_type": "execute_result"
    }
   ],
   "source": [
    "# Test\n",
    "\n",
    "from utils.evaluate import f1_macro\n",
    "\n",
    "y_pred_test = np.argmax(first_model(x_test), axis=2)\n",
    "\n",
    "f1_macro(y_true=y_test, y_pred=y_pred_test, punctuation_integers=punctuation_integers)"
   ]
  },
  {
   "cell_type": "markdown",
   "metadata": {},
   "source": [
    "## Second Model"
   ]
  },
  {
   "cell_type": "code",
   "execution_count": 32,
   "metadata": {},
   "outputs": [],
   "source": [
    "from models.second_model import build_second_model\n",
    "\n",
    "second_model = build_second_model(n_classes=n_classes, embedding_matrix=embedding_matrix)"
   ]
  },
  {
   "cell_type": "code",
   "execution_count": 33,
   "metadata": {},
   "outputs": [
    {
     "name": "stdout",
     "output_type": "stream",
     "text": [
      "Model: \"model_2\"\n",
      "_________________________________________________________________\n",
      " Layer (type)                Output Shape              Param #   \n",
      "=================================================================\n",
      " input_3 (InputLayer)        [(None, None)]            0         \n",
      "                                                                 \n",
      " embedding_2 (Embedding)     (None, None, 50)          547450    \n",
      "                                                                 \n",
      " bidirectional_2 (Bidirectio  [(None, None, 256),      183296    \n",
      " nal)                         (None, 128),                       \n",
      "                              (None, 128),                       \n",
      "                              (None, 128),                       \n",
      "                              (None, 128)]                       \n",
      "                                                                 \n",
      " bidirectional_3 (Bidirectio  [(None, None, 256),      394240    \n",
      " nal)                         (None, 128),                       \n",
      "                              (None, 128),                       \n",
      "                              (None, 128),                       \n",
      "                              (None, 128)]                       \n",
      "                                                                 \n",
      " dense_2 (Dense)             (None, None, 47)          12079     \n",
      "                                                                 \n",
      "=================================================================\n",
      "Total params: 1,137,065\n",
      "Trainable params: 1,137,065\n",
      "Non-trainable params: 0\n",
      "_________________________________________________________________\n"
     ]
    }
   ],
   "source": [
    "second_model.summary()"
   ]
  },
  {
   "cell_type": "code",
   "execution_count": 34,
   "metadata": {},
   "outputs": [],
   "source": [
    "import tensorflow as tf\n",
    "\n",
    "second_model.compile(loss=tf.keras.losses.SparseCategoricalCrossentropy(from_logits=True), optimizer='adam', metrics=['accuracy'])"
   ]
  },
  {
   "cell_type": "code",
   "execution_count": 35,
   "metadata": {},
   "outputs": [
    {
     "name": "stdout",
     "output_type": "stream",
     "text": [
      "Epoch 1/20\n",
      "62/62 [==============================] - 31s 272ms/step - loss: 2.6200 - accuracy: 0.2722 - val_loss: 1.9098 - val_accuracy: 0.4892\n",
      "Epoch 2/20\n",
      "62/62 [==============================] - 11s 183ms/step - loss: 1.2868 - accuracy: 0.6607 - val_loss: 0.9351 - val_accuracy: 0.7463\n",
      "Epoch 3/20\n",
      "62/62 [==============================] - 11s 182ms/step - loss: 0.6980 - accuracy: 0.8168 - val_loss: 0.6232 - val_accuracy: 0.8296\n",
      "Epoch 4/20\n",
      "62/62 [==============================] - 11s 184ms/step - loss: 0.4727 - accuracy: 0.8737 - val_loss: 0.4953 - val_accuracy: 0.8621\n",
      "Epoch 5/20\n",
      "62/62 [==============================] - 11s 186ms/step - loss: 0.3596 - accuracy: 0.9043 - val_loss: 0.4291 - val_accuracy: 0.8771\n",
      "Epoch 6/20\n",
      "62/62 [==============================] - 11s 184ms/step - loss: 0.2815 - accuracy: 0.9250 - val_loss: 0.3792 - val_accuracy: 0.8888\n",
      "Epoch 7/20\n",
      "62/62 [==============================] - 12s 187ms/step - loss: 0.2243 - accuracy: 0.9408 - val_loss: 0.3469 - val_accuracy: 0.8997\n",
      "Epoch 8/20\n",
      "62/62 [==============================] - 11s 179ms/step - loss: 0.1815 - accuracy: 0.9524 - val_loss: 0.3265 - val_accuracy: 0.9053\n",
      "Epoch 9/20\n",
      "62/62 [==============================] - 11s 176ms/step - loss: 0.1470 - accuracy: 0.9628 - val_loss: 0.3144 - val_accuracy: 0.9086\n",
      "Epoch 10/20\n",
      "62/62 [==============================] - 11s 176ms/step - loss: 0.1202 - accuracy: 0.9700 - val_loss: 0.3133 - val_accuracy: 0.9098\n",
      "Epoch 11/20\n",
      "62/62 [==============================] - 11s 180ms/step - loss: 0.1014 - accuracy: 0.9756 - val_loss: 0.3081 - val_accuracy: 0.9129\n",
      "Epoch 12/20\n",
      "62/62 [==============================] - 11s 179ms/step - loss: 0.0837 - accuracy: 0.9803 - val_loss: 0.3031 - val_accuracy: 0.9150\n",
      "Epoch 13/20\n",
      "62/62 [==============================] - 11s 177ms/step - loss: 0.0694 - accuracy: 0.9841 - val_loss: 0.3089 - val_accuracy: 0.9149\n",
      "Epoch 14/20\n",
      "62/62 [==============================] - 11s 176ms/step - loss: 0.0583 - accuracy: 0.9876 - val_loss: 0.3110 - val_accuracy: 0.9161\n",
      "Epoch 15/20\n",
      "62/62 [==============================] - 11s 175ms/step - loss: 0.0493 - accuracy: 0.9895 - val_loss: 0.3131 - val_accuracy: 0.9179\n",
      "Epoch 16/20\n",
      "62/62 [==============================] - 11s 177ms/step - loss: 0.0413 - accuracy: 0.9917 - val_loss: 0.3164 - val_accuracy: 0.9184\n",
      "Epoch 17/20\n",
      "62/62 [==============================] - 11s 179ms/step - loss: 0.0331 - accuracy: 0.9939 - val_loss: 0.3213 - val_accuracy: 0.9174\n",
      "Epoch 18/20\n",
      "62/62 [==============================] - 11s 177ms/step - loss: 0.0288 - accuracy: 0.9951 - val_loss: 0.3357 - val_accuracy: 0.9179\n"
     ]
    }
   ],
   "source": [
    "second_model_history = second_model.fit(x=x_train, y=y_train, batch_size=32, epochs=20, validation_data=(x_val, y_val),\n",
    "                                        callbacks=[callback])"
   ]
  },
  {
   "cell_type": "code",
   "execution_count": 36,
   "metadata": {},
   "outputs": [
    {
     "data": {
      "image/png": "[encoded data removed]",
      "text/plain": [
       "<Figure size 432x288 with 1 Axes>"
      ]
     },
     "metadata": {
      "needs_background": "light"
     },
     "output_type": "display_data"
    },
    {
     "data": {
      "image/png": "[encoded data removed]",
      "text/plain": [
       "<Figure size 432x288 with 1 Axes>"
      ]
     },
     "metadata": {
      "needs_background": "light"
     },
     "output_type": "display_data"
    }
   ],
   "source": [
    "from utils.evaluate import plot_history\n",
    "\n",
    "plot_history(second_model_history)"
   ]
  },
  {
   "cell_type": "markdown",
   "metadata": {},
   "source": [
    "### Check the predicted labels on a single test sentence"
   ]
  },
  {
   "cell_type": "code",
   "execution_count": 39,
   "metadata": {},
   "outputs": [
    {
     "name": "stdout",
     "output_type": "stream",
     "text": [
      "Sentence: intelogic trace inc. , san antonio , texas , said it bought 2.7 million shares , or about 18 % , of its common stock from an unaffiliated shareholder for $ 3.625 a share , or $ 9.9 million .\n"
     ]
    }
   ],
   "source": [
    "print('Sentence:', texts_test[0])"
   ]
  },
  {
   "cell_type": "code",
   "execution_count": 40,
   "metadata": {},
   "outputs": [
    {
     "name": "stdout",
     "output_type": "stream",
     "text": [
      "True POS tags: NNP NNP NNP , NNP NNP , NNP , VBD PRP VBD CD CD NNS , CC IN CD NN , IN PRP$ JJ NN IN DT JJ NN IN $ CD DT NN , CC $ CD CD .\n"
     ]
    }
   ],
   "source": [
    "print('True POS tags:', labels_test[0])"
   ]
  },
  {
   "cell_type": "code",
   "execution_count": 41,
   "metadata": {},
   "outputs": [
    {
     "name": "stdout",
     "output_type": "stream",
     "text": [
      "Predicted POS tags: ['NNP' 'NNP' 'NNP' ',' 'NNP' 'NNP' ',' 'NNP' ',' 'VBD' 'PRP' 'VBD' 'CD'\n",
      " 'CD' 'NNS' ',' 'CC' 'RB' 'CD' 'NN' ',' 'IN' 'PRP$' 'JJ' 'NN' 'IN' 'DT'\n",
      " 'JJ' 'NN' 'IN' '$' 'CD' 'DT' 'NN' ',' 'CC' '$' 'CD' 'CD' '.']\n"
     ]
    }
   ],
   "source": [
    "print('Predicted POS tags:', vocabulary_labels[np.argmax(second_model(x_test[0:1]), axis=2)][0][:len(labels_test[0].split())])"
   ]
  },
  {
   "cell_type": "markdown",
   "metadata": {},
   "source": [
    "### Test score"
   ]
  },
  {
   "cell_type": "code",
   "execution_count": 42,
   "metadata": {},
   "outputs": [
    {
     "name": "stdout",
     "output_type": "stream",
     "text": [
      "20/20 [==============================] - 1s 33ms/step - loss: 0.2804 - accuracy: 0.9234\n"
     ]
    },
    {
     "data": {
      "text/plain": [
       "[0.28037595748901367, 0.9233803153038025]"
      ]
     },
     "execution_count": 42,
     "metadata": {},
     "output_type": "execute_result"
    }
   ],
   "source": [
    "second_model.evaluate(x_test, y_test)"
   ]
  },
  {
   "cell_type": "markdown",
   "metadata": {},
   "source": [
    "### F1 macro (no punctuation)"
   ]
  },
  {
   "cell_type": "code",
   "execution_count": 43,
   "metadata": {},
   "outputs": [
    {
     "data": {
      "text/plain": [
       "0.6580310823007425"
      ]
     },
     "execution_count": 43,
     "metadata": {},
     "output_type": "execute_result"
    }
   ],
   "source": [
    "# Validation\n",
    "\n",
    "from utils.evaluate import f1_macro\n",
    "\n",
    "y_pred_val = np.argmax(second_model(x_val), axis=2)\n",
    "\n",
    "f1_macro(y_true=y_val, y_pred=y_pred_val, punctuation_integers=punctuation_integers)"
   ]
  },
  {
   "cell_type": "code",
   "execution_count": 44,
   "metadata": {},
   "outputs": [
    {
     "data": {
      "text/plain": [
       "0.7918881138411897"
      ]
     },
     "execution_count": 44,
     "metadata": {},
     "output_type": "execute_result"
    }
   ],
   "source": [
    "# Test\n",
    "\n",
    "from utils.evaluate import f1_macro\n",
    "\n",
    "y_pred_test = np.argmax(second_model(x_test), axis=2)\n",
    "\n",
    "f1_macro(y_true=y_test, y_pred=y_pred_test, punctuation_integers=punctuation_integers)"
   ]
  },
  {
   "cell_type": "markdown",
   "metadata": {},
   "source": [
    "## Third Model"
   ]
  },
  {
   "cell_type": "code",
   "execution_count": 45,
   "metadata": {},
   "outputs": [],
   "source": [
    "from models.third_model import build_third_model\n",
    "\n",
    "third_model = build_third_model(n_classes=n_classes, embedding_matrix=embedding_matrix)"
   ]
  },
  {
   "cell_type": "code",
   "execution_count": 46,
   "metadata": {},
   "outputs": [
    {
     "name": "stdout",
     "output_type": "stream",
     "text": [
      "Model: \"model_3\"\n",
      "_________________________________________________________________\n",
      " Layer (type)                Output Shape              Param #   \n",
      "=================================================================\n",
      " input_4 (InputLayer)        [(None, None)]            0         \n",
      "                                                                 \n",
      " embedding_3 (Embedding)     (None, None, 50)          547450    \n",
      "                                                                 \n",
      " bidirectional_4 (Bidirectio  [(None, None, 256),      183296    \n",
      " nal)                         (None, 128),                       \n",
      "                              (None, 128),                       \n",
      "                              (None, 128),                       \n",
      "                              (None, 128)]                       \n",
      "                                                                 \n",
      " dense_4 (Dense)             (None, None, 47)          12079     \n",
      "                                                                 \n",
      "=================================================================\n",
      "Total params: 742,825\n",
      "Trainable params: 742,825\n",
      "Non-trainable params: 0\n",
      "_________________________________________________________________\n"
     ]
    }
   ],
   "source": [
    "third_model.summary()"
   ]
  },
  {
   "cell_type": "code",
   "execution_count": 47,
   "metadata": {},
   "outputs": [],
   "source": [
    "import tensorflow as tf\n",
    "\n",
    "third_model.compile(loss=tf.keras.losses.SparseCategoricalCrossentropy(from_logits=True), optimizer='adam', metrics=['accuracy'])"
   ]
  },
  {
   "cell_type": "code",
   "execution_count": 48,
   "metadata": {},
   "outputs": [
    {
     "name": "stdout",
     "output_type": "stream",
     "text": [
      "Epoch 1/20\n",
      "62/62 [==============================] - 13s 110ms/step - loss: 2.6097 - accuracy: 0.3126 - val_loss: 1.8731 - val_accuracy: 0.5270\n",
      "Epoch 2/20\n",
      "62/62 [==============================] - 5s 79ms/step - loss: 1.3299 - accuracy: 0.6699 - val_loss: 0.9974 - val_accuracy: 0.7460\n",
      "Epoch 3/20\n",
      "62/62 [==============================] - 5s 77ms/step - loss: 0.7576 - accuracy: 0.8105 - val_loss: 0.6800 - val_accuracy: 0.8259\n",
      "Epoch 4/20\n",
      "62/62 [==============================] - 5s 77ms/step - loss: 0.5217 - accuracy: 0.8674 - val_loss: 0.5351 - val_accuracy: 0.8557\n",
      "Epoch 5/20\n",
      "62/62 [==============================] - 5s 81ms/step - loss: 0.3960 - accuracy: 0.8967 - val_loss: 0.4507 - val_accuracy: 0.8757\n",
      "Epoch 6/20\n",
      "62/62 [==============================] - 5s 82ms/step - loss: 0.3143 - accuracy: 0.9178 - val_loss: 0.4017 - val_accuracy: 0.8853\n",
      "Epoch 7/20\n",
      "62/62 [==============================] - 5s 82ms/step - loss: 0.2572 - accuracy: 0.9328 - val_loss: 0.3679 - val_accuracy: 0.8952\n",
      "Epoch 8/20\n",
      "62/62 [==============================] - 5s 82ms/step - loss: 0.2124 - accuracy: 0.9443 - val_loss: 0.3396 - val_accuracy: 0.9016\n",
      "Epoch 9/20\n",
      "62/62 [==============================] - 5s 80ms/step - loss: 0.1781 - accuracy: 0.9545 - val_loss: 0.3226 - val_accuracy: 0.9057\n",
      "Epoch 10/20\n",
      "62/62 [==============================] - 5s 80ms/step - loss: 0.1499 - accuracy: 0.9626 - val_loss: 0.3098 - val_accuracy: 0.9105\n",
      "Epoch 11/20\n",
      "62/62 [==============================] - 5s 83ms/step - loss: 0.1320 - accuracy: 0.9665 - val_loss: 0.3026 - val_accuracy: 0.9130\n",
      "Epoch 12/20\n",
      "62/62 [==============================] - 5s 83ms/step - loss: 0.1109 - accuracy: 0.9729 - val_loss: 0.2967 - val_accuracy: 0.9144\n",
      "Epoch 13/20\n",
      "62/62 [==============================] - 5s 80ms/step - loss: 0.0957 - accuracy: 0.9771 - val_loss: 0.2950 - val_accuracy: 0.9158\n",
      "Epoch 14/20\n",
      "62/62 [==============================] - 5s 80ms/step - loss: 0.0829 - accuracy: 0.9806 - val_loss: 0.2917 - val_accuracy: 0.9171\n",
      "Epoch 15/20\n",
      "62/62 [==============================] - 5s 77ms/step - loss: 0.0720 - accuracy: 0.9837 - val_loss: 0.2890 - val_accuracy: 0.9187\n",
      "Epoch 16/20\n",
      "62/62 [==============================] - 5s 81ms/step - loss: 0.0624 - accuracy: 0.9865 - val_loss: 0.2971 - val_accuracy: 0.9162\n",
      "Epoch 17/20\n",
      "62/62 [==============================] - 5s 80ms/step - loss: 0.0540 - accuracy: 0.9884 - val_loss: 0.2950 - val_accuracy: 0.9170\n",
      "Epoch 18/20\n",
      "62/62 [==============================] - 5s 77ms/step - loss: 0.0473 - accuracy: 0.9905 - val_loss: 0.2994 - val_accuracy: 0.9169\n"
     ]
    }
   ],
   "source": [
    "third_model_history = third_model.fit(x=x_train, y=y_train, batch_size=32, epochs=20, validation_data=(x_val, y_val),\n",
    "                                      callbacks=[callback])"
   ]
  },
  {
   "cell_type": "code",
   "execution_count": 49,
   "metadata": {},
   "outputs": [
    {
     "data": {
      "image/png": "[encoded data removed]",
      "text/plain": [
       "<Figure size 432x288 with 1 Axes>"
      ]
     },
     "metadata": {
      "needs_background": "light"
     },
     "output_type": "display_data"
    },
    {
     "data": {
      "image/png": "[encoded data removed]",
      "text/plain": [
       "<Figure size 432x288 with 1 Axes>"
      ]
     },
     "metadata": {
      "needs_background": "light"
     },
     "output_type": "display_data"
    }
   ],
   "source": [
    "from utils.evaluate import plot_history\n",
    "\n",
    "plot_history(third_model_history)"
   ]
  },
  {
   "cell_type": "markdown",
   "metadata": {},
   "source": [
    "### Check the predicted labels on a single test sentence"
   ]
  },
  {
   "cell_type": "code",
   "execution_count": 50,
   "metadata": {},
   "outputs": [
    {
     "name": "stdout",
     "output_type": "stream",
     "text": [
      "Sentence: intelogic trace inc. , san antonio , texas , said it bought 2.7 million shares , or about 18 % , of its common stock from an unaffiliated shareholder for $ 3.625 a share , or $ 9.9 million .\n"
     ]
    }
   ],
   "source": [
    "print('Sentence:', texts_test[0])"
   ]
  },
  {
   "cell_type": "code",
   "execution_count": 51,
   "metadata": {},
   "outputs": [
    {
     "name": "stdout",
     "output_type": "stream",
     "text": [
      "True POS tags: NNP NNP NNP , NNP NNP , NNP , VBD PRP VBD CD CD NNS , CC IN CD NN , IN PRP$ JJ NN IN DT JJ NN IN $ CD DT NN , CC $ CD CD .\n"
     ]
    }
   ],
   "source": [
    "print('True POS tags:', labels_test[0])"
   ]
  },
  {
   "cell_type": "code",
   "execution_count": 52,
   "metadata": {},
   "outputs": [
    {
     "name": "stdout",
     "output_type": "stream",
     "text": [
      "Predicted POS tags: ['NNP' 'NNP' 'NNP' ',' 'NNP' 'NNP' ',' 'NNP' ',' 'VBD' 'PRP' 'VBD' 'CD'\n",
      " 'CD' 'NNS' ',' 'CC' 'RB' 'CD' 'NN' ',' 'IN' 'PRP$' 'JJ' 'NN' 'IN' 'DT'\n",
      " 'JJ' 'NN' 'IN' '$' 'CD' 'DT' 'NN' ',' 'CC' '$' 'CD' 'CD' '.']\n"
     ]
    }
   ],
   "source": [
    "print('Predicted POS tags:', vocabulary_labels[np.argmax(third_model(x_test[0:1]), axis=2)][0][:len(labels_test[0].split())])"
   ]
  },
  {
   "cell_type": "markdown",
   "metadata": {},
   "source": [
    "### Test score"
   ]
  },
  {
   "cell_type": "code",
   "execution_count": 53,
   "metadata": {},
   "outputs": [
    {
     "name": "stdout",
     "output_type": "stream",
     "text": [
      "20/20 [==============================] - 0s 16ms/step - loss: 0.2766 - accuracy: 0.9212\n"
     ]
    },
    {
     "data": {
      "text/plain": [
       "[0.2766224443912506, 0.9211819767951965]"
      ]
     },
     "execution_count": 53,
     "metadata": {},
     "output_type": "execute_result"
    }
   ],
   "source": [
    "third_model.evaluate(x_test, y_test)"
   ]
  },
  {
   "cell_type": "markdown",
   "metadata": {},
   "source": [
    "### F1 macro (no punctuation)"
   ]
  },
  {
   "cell_type": "code",
   "execution_count": 54,
   "metadata": {},
   "outputs": [
    {
     "data": {
      "text/plain": [
       "0.6750600184847289"
      ]
     },
     "execution_count": 54,
     "metadata": {},
     "output_type": "execute_result"
    }
   ],
   "source": [
    "# Validation\n",
    "\n",
    "from utils.evaluate import f1_macro\n",
    "\n",
    "y_pred_val = np.argmax(third_model(x_val), axis=2)\n",
    "\n",
    "f1_macro(y_true=y_val, y_pred=y_pred_val, punctuation_integers=punctuation_integers)"
   ]
  },
  {
   "cell_type": "code",
   "execution_count": 55,
   "metadata": {},
   "outputs": [
    {
     "data": {
      "text/plain": [
       "0.7875452368303134"
      ]
     },
     "execution_count": 55,
     "metadata": {},
     "output_type": "execute_result"
    }
   ],
   "source": [
    "# Test\n",
    "\n",
    "from utils.evaluate import f1_macro\n",
    "\n",
    "y_pred_test = np.argmax(third_model(x_test), axis=2)\n",
    "\n",
    "f1_macro(y_true=y_test, y_pred=y_pred_test, punctuation_integers=punctuation_integers)"
   ]
  }
 ],
 "metadata": {
  "kernelspec": {
   "display_name": "Python 3.10.0 64-bit",
   "language": "python",
   "name": "python3"
  },
  "language_info": {
   "codemirror_mode": {
    "name": "ipython",
    "version": 3
   },
   "file_extension": ".py",
   "mimetype": "text/x-python",
   "name": "python",
   "nbconvert_exporter": "python",
   "pygments_lexer": "ipython3",
   "version": "3.10.0"
  },
  "orig_nbformat": 4,
  "vscode": {
   "interpreter": {
    "hash": "d14990a399795653de35f1f5395269163893147857e74010bc072f6042c8e8da"
   }
  }
 },
 "nbformat": 4,
 "nbformat_minor": 2
}
